{
 "cells": [
  {
   "cell_type": "markdown",
   "metadata": {},
   "source": [
    "# Exploratory Data Analysis - Telco Customer Churn\n",
    "\n",
    "This notebook explores the IBM Telco Customer Churn dataset."
   ]
  },
  {
   "cell_type": "code",
   "execution_count": null,
   "metadata": {},
   "outputs": [],
   "source": [
    "import pandas as pd\n",
    "import numpy as np\n",
    "\n",
    "df = pd.read_csv('../data/raw/telco_churn.csv')\n",
    "print(f\"Dataset shape: {df.shape}\")\n",
    "print(f\"\\nMissing values:\\n{df.isnull().sum()}\")\n",
    "print(f\"\\nChurn distribution:\\n{df['Churn'].value_counts()}\")\n",
    "print(f\"\\nChurn percentage:\\n{df['Churn'].value_counts(normalize=True)}\")\n",
    "\n",
    "numeric_cols = df.select_dtypes(include=['number']).columns.tolist()\n",
    "categorical_cols = [c for c in df.columns if c not in numeric_cols and c not in ['customerID', 'Churn']]\n",
    "print(f\"\\nNumeric columns: {numeric_cols}\")\n",
    "print(f\"Categorical columns: {categorical_cols}\")"
   ]
  }
 ],
 "metadata": {
  "kernelspec": {
   "display_name": "Python 3",
   "language": "python",
   "name": "python3"
  },
  "language_info": {
   "name": "python",
   "version": "3.10.0"
  }
 },
 "nbformat": 4,
 "nbformat_minor": 4
}
